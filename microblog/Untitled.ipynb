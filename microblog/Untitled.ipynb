{
 "cells": [
  {
   "cell_type": "code",
   "execution_count": 3,
   "metadata": {},
   "outputs": [
    {
     "name": "stdout",
     "output_type": "stream",
     "text": [
      "{u'request_id': u'23bc6f0d-e67a-485a-a562-1be8cfb8afa3'}\n"
     ]
    }
   ],
   "source": [
    "import requests\n",
    "from minio import Minio\n",
    "import tempfile\n",
    "import pyarrow.parquet as pq\n",
    "\n",
    "servicex_endpoint = \"http://localhost:5000/servicex\"\n",
    "\n",
    "response = requests.post(servicex_endpoint+\"/transformation\", json={\n",
    "        \"did\": \"mc15_13TeV:mc15_13TeV.361106.PowhegPythia8EvtGen_AZNLOCTEQ6L1_Zee.merge.DAOD_STDM3.e3601_s2576_s2132_r6630_r6264_p2363_tid05630052_00\",\n",
    "        \"columns\": \"Electrons.pt(), Electrons.eta(), Electrons.phi(), Electrons.e(), Muons.pt(), Muons.eta(), Muons.phi(), Muons.e()\",\n",
    "        \"image\": \"sslhep/servicex-transformer:latest\",\n",
    "        \"result-destination\": \"object-store\",\n",
    "        \"result-format\": \"parquet\",\n",
    "        \"chunk-size\": 7000,\n",
    "        \"workers\": 1\n",
    "})\n",
    "\n",
    "print(response.json())\n",
    "request_id = response.json()[\"request_id\"]\n",
    "status_endpoint = servicex_endpoint+\"/transformation/{}/status\".format(request_id)"
   ]
  },
  {
   "cell_type": "code",
   "execution_count": null,
   "metadata": {},
   "outputs": [],
   "source": []
  }
 ],
 "metadata": {
  "kernelspec": {
   "display_name": "Python 2",
   "language": "python",
   "name": "python2"
  },
  "language_info": {
   "codemirror_mode": {
    "name": "ipython",
    "version": 2
   },
   "file_extension": ".py",
   "mimetype": "text/x-python",
   "name": "python",
   "nbconvert_exporter": "python",
   "pygments_lexer": "ipython2",
   "version": "2.7.16"
  }
 },
 "nbformat": 4,
 "nbformat_minor": 2
}
